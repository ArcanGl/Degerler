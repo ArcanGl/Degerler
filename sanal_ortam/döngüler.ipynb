{
 "cells": [
  {
   "cell_type": "code",
   "execution_count": 6,
   "metadata": {},
   "outputs": [
    {
     "name": "stdout",
     "output_type": "stream",
     "text": [
      "Aras\n"
     ]
    }
   ],
   "source": [
    "isim = [\"Arcü\",\"Emre\",\"Aslı\",\"Aras\"]\n",
    "for i in range (len(isim)):\n",
    "    if isim[i] == \"Aras\":\n",
    "        print(isim[i])"
   ]
  },
  {
   "cell_type": "code",
   "execution_count": 10,
   "metadata": {},
   "outputs": [
    {
     "name": "stdout",
     "output_type": "stream",
     "text": [
      "1 3 5 7 9 "
     ]
    }
   ],
   "source": [
    "sayilar = [1,2,3,4,5,6,7,8,9]\n",
    "for i in range(0,len(sayilar),2):\n",
    "    print(sayilar[i], end = ' ')"
   ]
  },
  {
   "cell_type": "code",
   "execution_count": 14,
   "metadata": {},
   "outputs": [
    {
     "name": "stdout",
     "output_type": "stream",
     "text": [
      "0 1 2 3 4 5 "
     ]
    }
   ],
   "source": [
    "i=0\n",
    "while i<10:\n",
    "    print(i,end=\" \")\n",
    "    if i == 5:\n",
    "        break\n",
    "    i += 1"
   ]
  },
  {
   "cell_type": "code",
   "execution_count": 16,
   "metadata": {},
   "outputs": [
    {
     "name": "stdout",
     "output_type": "stream",
     "text": [
      "1 2 3 4 6 7 8 9 10 "
     ]
    }
   ],
   "source": [
    "i=0\n",
    "while i<10:\n",
    "    i += 1\n",
    "    if i == 5:\n",
    "        continue\n",
    "    print(i,end=\" \")\n",
    "    "
   ]
  },
  {
   "cell_type": "code",
   "execution_count": 17,
   "metadata": {},
   "outputs": [
    {
     "name": "stdout",
     "output_type": "stream",
     "text": [
      "[0, 1, 4, 9, 16, 25, 36, 49, 64, 81]\n"
     ]
    }
   ],
   "source": [
    "kareler:list = []\n",
    "for n in range(10):\n",
    "    kareler.append(n**2)\n",
    "print(kareler)"
   ]
  },
  {
   "cell_type": "markdown",
   "metadata": {},
   "source": [
    "#LİST COMPHERENSION NE ZAMAN KULLANILMALIDIR?"
   ]
  },
  {
   "cell_type": "markdown",
   "metadata": {},
   "source": [
    "Eğer liste içersinde manipülasyon işlemleri gerçekleştirelecekse veya liste içerisinden bir işlem yapılıp sonuç çıkarılacaksa list compherension kullanılır.\n",
    "\n",
    "Eğer listede yapmak istediğim işlem ikiden fazla koşul içeriyorsa ve iç içe döngüler kullanılmak zorundaysa list compherension kullanılmaz çünkü esnekliği buna müsade etmez."
   ]
  },
  {
   "cell_type": "code",
   "execution_count": 18,
   "metadata": {},
   "outputs": [
    {
     "name": "stdout",
     "output_type": "stream",
     "text": [
      "[0, 1, 4, 9, 16, 25, 36, 49, 64, 81]\n"
     ]
    }
   ],
   "source": [
    "kareler:list = [\n",
    "    n**2\n",
    "    for n in range(10)\n",
    "]\n",
    "print(kareler)"
   ]
  },
  {
   "cell_type": "code",
   "execution_count": 20,
   "metadata": {},
   "outputs": [
    {
     "name": "stdout",
     "output_type": "stream",
     "text": [
      "['Venüs']\n"
     ]
    }
   ],
   "source": [
    "gezegenler = [\"MErkür\",\"Jupiter\",\"Uranüs\",\"Saturn\",\"Venüs\",\"Neptun\"]\n",
    "kısa_gezegenler:list = [\n",
    "    gezegen\n",
    "    for gezegen in gezegenler\n",
    "    if len(gezegen) < 6\n",
    "]\n",
    "print(kısa_gezegenler)"
   ]
  },
  {
   "cell_type": "code",
   "execution_count": 21,
   "metadata": {},
   "outputs": [],
   "source": [
    "def countNegative(nums:list):\n",
    "    \"\"\"\n",
    "    Verilen Listedeki negatif sayıları sayan fonksiyon\n",
    "    \"\"\"\n",
    "    return sum([\n",
    "        num<0\n",
    "        for num in nums\n",
    "    ])"
   ]
  },
  {
   "cell_type": "code",
   "execution_count": 22,
   "metadata": {},
   "outputs": [
    {
     "data": {
      "text/plain": [
       "2"
      ]
     },
     "execution_count": 22,
     "metadata": {},
     "output_type": "execute_result"
    }
   ],
   "source": [
    "countNegative([5,1,-2,3,-5,0,9])"
   ]
  },
  {
   "cell_type": "code",
   "execution_count": 30,
   "metadata": {},
   "outputs": [],
   "source": [
    "def hasLuckyNumber(nums:list):\n",
    "    \"\"\"\n",
    "    Verilmiş herhangi bir listenin şanslı sayılarını bulmaya çalışır. Bu fonksiyon için şanslı sayımızın kriteri 7 ile tam bölünebilmesiir.\n",
    "    \"\"\"\n",
    "    for num in nums:\n",
    "        if num % 7 == 0:\n",
    "            return True\n",
    "    \n",
    "    return False"
   ]
  },
  {
   "cell_type": "code",
   "execution_count": 31,
   "metadata": {},
   "outputs": [
    {
     "data": {
      "text/plain": [
       "True"
      ]
     },
     "execution_count": 31,
     "metadata": {},
     "output_type": "execute_result"
    }
   ],
   "source": [
    "hasLuckyNumber([8,34,49,25])\n"
   ]
  },
  {
   "cell_type": "markdown",
   "metadata": {},
   "source": [
    "Verilmiş herhangi bir listenin şanslı sayılarını bulmaya çalışın. Bu fonksiyon için şanslı sayımızın kriteri 7 ile tam bölünebilmelidir. Bu işlemi list compherension ile yap."
   ]
  },
  {
   "cell_type": "code",
   "execution_count": 32,
   "metadata": {},
   "outputs": [],
   "source": [
    "def hasLuckyNumber(nums:list):\n",
    "    \"\"\"\n",
    "    Verilmiş herhangi bir listenin şanslı sayılarını bulmaya çalışır. Bu fonksiyon için şanslı sayımızın kriteri 7 ile tam bölünebilmesiir.\n",
    "    \"\"\"\n",
    "    return[ \n",
    "        num \n",
    "        for num in nums \n",
    "        if num % 7 == 0\n",
    "        ]"
   ]
  },
  {
   "cell_type": "code",
   "execution_count": 33,
   "metadata": {},
   "outputs": [
    {
     "name": "stdout",
     "output_type": "stream",
     "text": [
      "[49, 21, 7, 14]\n"
     ]
    }
   ],
   "source": [
    "print(hasLuckyNumber([8, 34, 49, 25, 21, 7, 14])) "
   ]
  },
  {
   "cell_type": "code",
   "execution_count": 36,
   "metadata": {},
   "outputs": [],
   "source": [
    "def elementwiseGreaterThan(L:list, thresh:int):\n",
    "    \"\"\"\n",
    "    L ile aynı uzunlukta bir liste döndürür. Burada i indeksindeki değer yani L[i] indeksi\n",
    "    thresh parametresinde verilen değerden büyükse True küçükse False Değer Döndürücek.\n",
    "    \n",
    "    >>>elementwiseGreaterThan([1,2,3,4], 2)\n",
    "    [False, False, True, True]\"\"\"\n",
    "\n",
    "    return[\n",
    "        num > thresh\n",
    "        for num in L\n",
    "        ]\n"
   ]
  },
  {
   "cell_type": "code",
   "execution_count": 37,
   "metadata": {},
   "outputs": [
    {
     "name": "stdout",
     "output_type": "stream",
     "text": [
      "[False, False, True, True]\n"
     ]
    }
   ],
   "source": [
    "print(elementwiseGreaterThan([1, 2, 3, 4], 2)) "
   ]
  },
  {
   "cell_type": "code",
   "execution_count": null,
   "metadata": {},
   "outputs": [],
   "source": [
    "def menuIsBoring(meals:list[str]):\n",
    "    \"\"\"\n",
    "    Belirli bir süre boyunca servis edilen yemeklerin listesinin verildiğini düşünün. \n",
    "    Eğer aynı yemek art arda iki gün servis edilirse True değer döndüreceksiniz. Eğer iki gün üst üste farklı yemek servis edilirse false değer dördüreceksiniz.\n",
    "    \"\"\"\n",
    "    for i in range(len(meals)-1):\n",
    "        if meals[i]==meals[i+1]:\n",
    "            return True\n",
    "    return False"
   ]
  },
  {
   "cell_type": "code",
   "execution_count": 43,
   "metadata": {},
   "outputs": [
    {
     "name": "stdout",
     "output_type": "stream",
     "text": [
      "True\n",
      "False\n",
      "True\n",
      "False\n"
     ]
    }
   ],
   "source": [
    "print(menuIsBoring([\"Pizza\", \"Burger\", \"Burger\", \"Salata\"]))  \n",
    "print(menuIsBoring([\"Pizza\", \"Burger\", \"Salata\", \"Kebap\"]))  \n",
    "print(menuIsBoring([\"Kebap\", \"Kebap\", \"Pizza\", \"Pizza\"]))  \n",
    "print(menuIsBoring([\"Pizza\", \"Kebap\", \"Burger\", \"Salata\"]))"
   ]
  }
 ],
 "metadata": {
  "kernelspec": {
   "display_name": "sanal_ortam",
   "language": "python",
   "name": "python3"
  },
  "language_info": {
   "codemirror_mode": {
    "name": "ipython",
    "version": 3
   },
   "file_extension": ".py",
   "mimetype": "text/x-python",
   "name": "python",
   "nbconvert_exporter": "python",
   "pygments_lexer": "ipython3",
   "version": "3.12.1"
  }
 },
 "nbformat": 4,
 "nbformat_minor": 2
}
