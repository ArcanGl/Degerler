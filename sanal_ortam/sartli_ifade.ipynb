{
 "cells": [
  {
   "cell_type": "code",
   "execution_count": 13,
   "metadata": {},
   "outputs": [],
   "source": [
    "def get_Water_bill(numLiters=float)->float:\n",
    "    \"\"\"\n",
    "    Kullanıcının aylık tüketimi hesaplayan program\n",
    "    \"\"\"\n",
    "    if numLiters<=8000:\n",
    "        bill = 5.0*numLiters/1000\n",
    "    elif numLiters<=22000:\n",
    "        bill = 6.0*numLiters/1000\n",
    "    elif numLiters<=30000:\n",
    "        bill = 7.0*numLiters/1000\n",
    "    else:\n",
    "        bill = 10.0*numLiters/1000\n",
    "    return bill\n"
   ]
  },
  {
   "cell_type": "code",
   "execution_count": 14,
   "metadata": {},
   "outputs": [
    {
     "name": "stdout",
     "output_type": "stream",
     "text": [
      "Maliyet: 175.0\n"
     ]
    }
   ],
   "source": [
    "tier2_level = get_Water_bill(25000.0)\n",
    "print(f\"Maliyet: {tier2_level}\")"
   ]
  },
  {
   "cell_type": "code",
   "execution_count": 17,
   "metadata": {},
   "outputs": [
    {
     "name": "stdout",
     "output_type": "stream",
     "text": [
      "Başlıngıca yakın Dilimleme: [1, 2, 3, 4]\n",
      "Sona yakın Dilimleme: [7, 8]\n"
     ]
    }
   ],
   "source": [
    "ornek_liste = [1,2,3,4,5,6,7,8]\n",
    "print(f\"Başlıngıca yakın Dilimleme: {ornek_liste[:4]}\")\n",
    "\n",
    "print(f\"Sona yakın Dilimleme: {ornek_liste[-2:]}\")"
   ]
  },
  {
   "cell_type": "code",
   "execution_count": 18,
   "metadata": {},
   "outputs": [
    {
     "name": "stdout",
     "output_type": "stream",
     "text": [
      "Toplam Çiçek Türe: 4\n",
      "<class 'int'>\n"
     ]
    }
   ],
   "source": [
    "flower_list = [\"Papatyya\",\"Gül\",\"Şakayık\",\"tohum\"]\n",
    "print(f\"Toplam Çiçek Türe: {len(flower_list)}\")\n",
    "print(type(len(flower_list)))"
   ]
  },
  {
   "cell_type": "code",
   "execution_count": 19,
   "metadata": {},
   "outputs": [
    {
     "name": "stdout",
     "output_type": "stream",
     "text": [
      "Listenin uzunluğu: 3\n"
     ]
    }
   ],
   "source": [
    "index_uzunuğu = len(flower_list)-1\n",
    "print(f\"Listenin uzunluğu: {index_uzunuğu}\")"
   ]
  },
  {
   "cell_type": "code",
   "execution_count": 20,
   "metadata": {},
   "outputs": [],
   "source": [
    "flower_list.append(\"çiçekci\") #append() parantez içine yazdığın değeri listenin son elemanı olarak ekler."
   ]
  },
  {
   "cell_type": "code",
   "execution_count": 21,
   "metadata": {},
   "outputs": [
    {
     "name": "stdout",
     "output_type": "stream",
     "text": [
      "['Papatyya', 'Gül', 'Şakayık', 'tohum', 'çiçekci']\n"
     ]
    }
   ],
   "source": [
    "print(flower_list)"
   ]
  },
  {
   "cell_type": "code",
   "execution_count": 22,
   "metadata": {},
   "outputs": [],
   "source": [
    "flower_list.insert(1,\"şaklaban\") # insert eklenecek değeri index ile beraber ekler ve istenilen yere konumlandırılır."
   ]
  },
  {
   "cell_type": "code",
   "execution_count": 23,
   "metadata": {},
   "outputs": [
    {
     "name": "stdout",
     "output_type": "stream",
     "text": [
      "['Papatyya', 'şaklaban', 'Gül', 'Şakayık', 'tohum', 'çiçekci']\n"
     ]
    }
   ],
   "source": [
    "print(flower_list)"
   ]
  },
  {
   "cell_type": "code",
   "execution_count": 24,
   "metadata": {},
   "outputs": [
    {
     "data": {
      "text/plain": [
       "'Şakayık'"
      ]
     },
     "execution_count": 24,
     "metadata": {},
     "output_type": "execute_result"
    }
   ],
   "source": [
    "flower_list.pop(3)# sadece index belirtip kaldırılan değeri gösterir."
   ]
  },
  {
   "cell_type": "code",
   "execution_count": 25,
   "metadata": {},
   "outputs": [
    {
     "name": "stdout",
     "output_type": "stream",
     "text": [
      "['Papatyya', 'şaklaban', 'Gül', 'tohum', 'çiçekci']\n"
     ]
    }
   ],
   "source": [
    "print(flower_list)"
   ]
  }
 ],
 "metadata": {
  "kernelspec": {
   "display_name": "sanal_ortam",
   "language": "python",
   "name": "python3"
  },
  "language_info": {
   "codemirror_mode": {
    "name": "ipython",
    "version": 3
   },
   "file_extension": ".py",
   "mimetype": "text/x-python",
   "name": "python",
   "nbconvert_exporter": "python",
   "pygments_lexer": "ipython3",
   "version": "3.12.1"
  }
 },
 "nbformat": 4,
 "nbformat_minor": 2
}
